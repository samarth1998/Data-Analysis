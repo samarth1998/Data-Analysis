{
 "cells": [
  {
   "cell_type": "markdown",
   "metadata": {
    "deletable": false,
    "editable": false,
    "nbgrader": {
     "checksum": "d7c9dfbbe1ffcc36ccbc4be3af56e8a6",
     "grade": false,
     "grade_id": "title",
     "locked": true,
     "schema_version": 1,
     "solution": false
    }
   },
   "source": [
    "# COGS 108 - Assignment 5: Data Analysis"
   ]
  },
  {
   "cell_type": "markdown",
   "metadata": {
    "deletable": false,
    "editable": false,
    "nbgrader": {
     "checksum": "9f007a4da9b7016c4c537433e7d0ac56",
     "grade": false,
     "grade_id": "instr",
     "locked": true,
     "schema_version": 1,
     "solution": false
    }
   },
   "source": [
    "# Important\n",
    "- Rename this file to 'A5_A########.ipynb' (filled in with your student ID) before you submit it. Submit it to TritonED.\n",
    "- Do not change / update / delete any existing cells with 'assert' in them. These are the tests used to check your assignment.\n",
    "    - Changing these will be flagged for attempted cheating.\n",
    "- Import cells are read only. If you add extra imports, these will not be imported when grading your assignment. \n",
    "- This assignment has hidden tests: tests that are not visible here, but that will be run on your submitted assignment for grading.\n",
    "    - This means passing all the tests you can see in the notebook here does not guarantee you have the right answer!\n",
    "    - In particular many of the tests you can see simply check that the right variable names exist. Hidden tests check the actual values. \n",
    "        - It is up to you to check the values, and make sure they seem reasonable."
   ]
  },
  {
   "cell_type": "code",
   "execution_count": 1,
   "metadata": {
    "collapsed": false,
    "deletable": false,
    "editable": false,
    "nbgrader": {
     "checksum": "483c3b6ffb018e88202596631a4896cc",
     "grade": false,
     "grade_id": "imports",
     "locked": true,
     "schema_version": 1,
     "solution": false
    }
   },
   "outputs": [],
   "source": [
    "# Imports -  These are all you need for the assignment: do not import additional packages\n",
    "%matplotlib inline\n",
    "\n",
    "import pandas as pd\n",
    "import numpy as np\n",
    "import matplotlib.pyplot as plt\n",
    "import patsy\n",
    "import statsmodels.api as sm\n",
    "from scipy.stats import ttest_ind"
   ]
  },
  {
   "cell_type": "markdown",
   "metadata": {
    "deletable": false,
    "editable": false,
    "nbgrader": {
     "checksum": "dcc031dde838bfcb1cc04e7cf28267e8",
     "grade": false,
     "grade_id": "notes",
     "locked": true,
     "schema_version": 1,
     "solution": false
    }
   },
   "source": [
    "### Notes\n",
    "\n",
    "Parts 1-5 of this assignment are modelled on showing you, and getting you to work through, a minimal example of a project notebook, mimicing what you will need for your final project.\n",
    "\n",
    "Parts 6-8 of this assignment are separate (and breaks from the project narrative), and serve as a series of quick one-offs to get you working with some other methods that might be useful to incorporate into your project."
   ]
  },
  {
   "cell_type": "markdown",
   "metadata": {
    "deletable": false,
    "editable": false,
    "nbgrader": {
     "checksum": "9681c3e151a874bd2922f28bbf3bdc6b",
     "grade": false,
     "grade_id": "setup",
     "locked": true,
     "schema_version": 1,
     "solution": false
    }
   },
   "source": [
    "## Setup\n",
    "\n",
    "Data: the responses collected from a survery of the COGS 108 class. \n",
    "- There are 377 observations in the data, covering 8 different 'features'.\n",
    "\n",
    "Research Question: Do students in different majors have different heights?\n",
    "\n",
    "Background: Physical height has previously shown to correlate with career choice, and career success. More recently it has been demonstrated that these correlations can actually be explained by height in high school, as opposed to height in adulthood (1). It is currently unclear whether height correlates with choice of major in university. \n",
    "\n",
    "Reference: 1) http://economics.sas.upenn.edu/~apostlew/paper/pdf/short.pdf\n",
    "\n",
    "Hypothesis: We hypothesize that there will be a relation between height and chosen major. "
   ]
  },
  {
   "cell_type": "markdown",
   "metadata": {
    "deletable": false,
    "editable": false,
    "nbgrader": {
     "checksum": "fb5ffeef2ec1c68c341cb216834c1fed",
     "grade": false,
     "grade_id": "part1",
     "locked": true,
     "schema_version": 1,
     "solution": false
    }
   },
   "source": [
    "## Part 1: Load & Clean the Data\n",
    "\n",
    "Note: for the purposes of the assignment we have provided you with an already cleaned version of the data, since cleaning the original response data would otherwise be a massive undertaking. "
   ]
  },
  {
   "cell_type": "code",
   "execution_count": 2,
   "metadata": {
    "collapsed": false,
    "deletable": false,
    "nbgrader": {
     "checksum": "7e47dd697f934da63620f12ff037495d",
     "grade": false,
     "grade_id": "1a",
     "locked": false,
     "schema_version": 1,
     "solution": true
    }
   },
   "outputs": [],
   "source": [
    "# 1a) Import the data in the file 'CleanedIntroResponses.csv' into a DataFrame, called 'df'.\n",
    "\n",
    "csvfile = 'CleanedIntroResponses.csv'\n",
    "df = pd.read_csv(csvfile)"
   ]
  },
  {
   "cell_type": "code",
   "execution_count": 3,
   "metadata": {
    "collapsed": false,
    "deletable": false,
    "editable": false,
    "nbgrader": {
     "checksum": "dda8eed84027b3f3e6d61c92f5d74b9e",
     "grade": true,
     "grade_id": "1a_ans",
     "locked": true,
     "points": 0.5,
     "schema_version": 1,
     "solution": false
    }
   },
   "outputs": [],
   "source": [
    "assert isinstance(df, pd.DataFrame)\n"
   ]
  },
  {
   "cell_type": "code",
   "execution_count": 4,
   "metadata": {
    "collapsed": false,
    "deletable": false,
    "nbgrader": {
     "checksum": "9aaf5abe18dc8ea96b1ff4b7f9741a08",
     "grade": false,
     "grade_id": "1b",
     "locked": false,
     "schema_version": 1,
     "solution": true
    },
    "scrolled": true
   },
   "outputs": [],
   "source": [
    "# 1b) Drop any rows with 'NaN' values. Use the pandas 'dropna' method, inplace. \n",
    "\n",
    "df.dropna(inplace = 'true')"
   ]
  },
  {
   "cell_type": "code",
   "execution_count": 5,
   "metadata": {
    "collapsed": false,
    "deletable": false,
    "editable": false,
    "nbgrader": {
     "checksum": "27733266d1cf13a510baa5b51f9a8260",
     "grade": true,
     "grade_id": "1b_ans",
     "locked": true,
     "points": 0.25,
     "schema_version": 1,
     "solution": false
    }
   },
   "outputs": [],
   "source": [
    "assert df.shape == (335, 8)"
   ]
  },
  {
   "cell_type": "code",
   "execution_count": 6,
   "metadata": {
    "collapsed": false,
    "deletable": false,
    "nbgrader": {
     "checksum": "8efa32f5a07288d782c895be78e5da73",
     "grade": false,
     "grade_id": "1c",
     "locked": false,
     "schema_version": 1,
     "solution": true
    }
   },
   "outputs": [],
   "source": [
    "# 1c) Use the pandas 'head' function to grab the first 12 rows of data. \n",
    "#  Save the output to variable called 'head'\n",
    "\n",
    "head = df.head(12)"
   ]
  },
  {
   "cell_type": "code",
   "execution_count": 7,
   "metadata": {
    "collapsed": true,
    "deletable": false,
    "editable": false,
    "nbgrader": {
     "checksum": "347ea716611e9c1e296c7546b6ae20fb",
     "grade": true,
     "grade_id": "1c_ans",
     "locked": true,
     "points": 0.25,
     "schema_version": 1,
     "solution": false
    }
   },
   "outputs": [],
   "source": [
    "assert np.all(head)\n",
    "assert head.shape == (12, 8)"
   ]
  },
  {
   "cell_type": "code",
   "execution_count": 8,
   "metadata": {
    "collapsed": false,
    "deletable": false,
    "editable": false,
    "nbgrader": {
     "checksum": "9b26cee63843d099c4a652b437d84ab5",
     "grade": false,
     "grade_id": "print_head",
     "locked": true,
     "schema_version": 1,
     "solution": false
    }
   },
   "outputs": [
    {
     "data": {
      "text/html": [
       "<div>\n",
       "<table border=\"1\" class=\"dataframe\">\n",
       "  <thead>\n",
       "    <tr style=\"text-align: right;\">\n",
       "      <th></th>\n",
       "      <th>year</th>\n",
       "      <th>major</th>\n",
       "      <th>age</th>\n",
       "      <th>gender</th>\n",
       "      <th>height</th>\n",
       "      <th>weight</th>\n",
       "      <th>ice_cream</th>\n",
       "      <th>color</th>\n",
       "    </tr>\n",
       "  </thead>\n",
       "  <tbody>\n",
       "    <tr>\n",
       "      <th>0</th>\n",
       "      <td>1.0</td>\n",
       "      <td>math</td>\n",
       "      <td>18.0</td>\n",
       "      <td>m</td>\n",
       "      <td>68.0</td>\n",
       "      <td>140.0</td>\n",
       "      <td>choc_mint</td>\n",
       "      <td>black</td>\n",
       "    </tr>\n",
       "    <tr>\n",
       "      <th>1</th>\n",
       "      <td>1.0</td>\n",
       "      <td>cogs</td>\n",
       "      <td>19.0</td>\n",
       "      <td>m</td>\n",
       "      <td>69.0</td>\n",
       "      <td>141.0</td>\n",
       "      <td>choc_mint</td>\n",
       "      <td>blue</td>\n",
       "    </tr>\n",
       "    <tr>\n",
       "      <th>2</th>\n",
       "      <td>1.0</td>\n",
       "      <td>cogs</td>\n",
       "      <td>24.0</td>\n",
       "      <td>m</td>\n",
       "      <td>70.0</td>\n",
       "      <td>210.0</td>\n",
       "      <td>choc_mint</td>\n",
       "      <td>blue</td>\n",
       "    </tr>\n",
       "    <tr>\n",
       "      <th>3</th>\n",
       "      <td>1.0</td>\n",
       "      <td>cogs</td>\n",
       "      <td>19.0</td>\n",
       "      <td>f</td>\n",
       "      <td>64.0</td>\n",
       "      <td>63.0</td>\n",
       "      <td>choc_mint</td>\n",
       "      <td>none</td>\n",
       "    </tr>\n",
       "    <tr>\n",
       "      <th>4</th>\n",
       "      <td>1.0</td>\n",
       "      <td>cogs</td>\n",
       "      <td>19.0</td>\n",
       "      <td>m</td>\n",
       "      <td>70.0</td>\n",
       "      <td>155.0</td>\n",
       "      <td>choc_mint</td>\n",
       "      <td>purple</td>\n",
       "    </tr>\n",
       "    <tr>\n",
       "      <th>5</th>\n",
       "      <td>1.0</td>\n",
       "      <td>undec</td>\n",
       "      <td>19.0</td>\n",
       "      <td>m</td>\n",
       "      <td>70.0</td>\n",
       "      <td>160.0</td>\n",
       "      <td>choc_mint</td>\n",
       "      <td>purple</td>\n",
       "    </tr>\n",
       "    <tr>\n",
       "      <th>6</th>\n",
       "      <td>1.0</td>\n",
       "      <td>cs</td>\n",
       "      <td>18.0</td>\n",
       "      <td>f</td>\n",
       "      <td>61.0</td>\n",
       "      <td>124.0</td>\n",
       "      <td>chubby_hubby</td>\n",
       "      <td>violet</td>\n",
       "    </tr>\n",
       "    <tr>\n",
       "      <th>7</th>\n",
       "      <td>1.0</td>\n",
       "      <td>math-cs</td>\n",
       "      <td>18.0</td>\n",
       "      <td>m</td>\n",
       "      <td>74.0</td>\n",
       "      <td>190.0</td>\n",
       "      <td>cookies_cream</td>\n",
       "      <td>black</td>\n",
       "    </tr>\n",
       "    <tr>\n",
       "      <th>8</th>\n",
       "      <td>1.0</td>\n",
       "      <td>math-cs</td>\n",
       "      <td>18.0</td>\n",
       "      <td>m</td>\n",
       "      <td>67.0</td>\n",
       "      <td>145.0</td>\n",
       "      <td>cookies_cream</td>\n",
       "      <td>rainbow</td>\n",
       "    </tr>\n",
       "    <tr>\n",
       "      <th>9</th>\n",
       "      <td>1.0</td>\n",
       "      <td>math-cs</td>\n",
       "      <td>18.0</td>\n",
       "      <td>m</td>\n",
       "      <td>73.0</td>\n",
       "      <td>67.0</td>\n",
       "      <td>green_tea</td>\n",
       "      <td>ultramarine</td>\n",
       "    </tr>\n",
       "    <tr>\n",
       "      <th>10</th>\n",
       "      <td>1.0</td>\n",
       "      <td>cogs</td>\n",
       "      <td>18.0</td>\n",
       "      <td>f</td>\n",
       "      <td>65.0</td>\n",
       "      <td>110.0</td>\n",
       "      <td>mango</td>\n",
       "      <td>pink</td>\n",
       "    </tr>\n",
       "    <tr>\n",
       "      <th>11</th>\n",
       "      <td>1.0</td>\n",
       "      <td>cogs</td>\n",
       "      <td>18.0</td>\n",
       "      <td>f</td>\n",
       "      <td>67.0</td>\n",
       "      <td>154.0</td>\n",
       "      <td>mint</td>\n",
       "      <td>orange</td>\n",
       "    </tr>\n",
       "  </tbody>\n",
       "</table>\n",
       "</div>"
      ],
      "text/plain": [
       "    year    major   age gender  height  weight      ice_cream        color\n",
       "0    1.0     math  18.0      m    68.0   140.0      choc_mint        black\n",
       "1    1.0     cogs  19.0      m    69.0   141.0      choc_mint         blue\n",
       "2    1.0     cogs  24.0      m    70.0   210.0      choc_mint         blue\n",
       "3    1.0     cogs  19.0      f    64.0    63.0      choc_mint         none\n",
       "4    1.0     cogs  19.0      m    70.0   155.0      choc_mint       purple\n",
       "5    1.0    undec  19.0      m    70.0   160.0      choc_mint       purple\n",
       "6    1.0       cs  18.0      f    61.0   124.0   chubby_hubby       violet\n",
       "7    1.0  math-cs  18.0      m    74.0   190.0  cookies_cream        black\n",
       "8    1.0  math-cs  18.0      m    67.0   145.0  cookies_cream      rainbow\n",
       "9    1.0  math-cs  18.0      m    73.0    67.0      green_tea  ultramarine\n",
       "10   1.0     cogs  18.0      f    65.0   110.0          mango         pink\n",
       "11   1.0     cogs  18.0      f    67.0   154.0           mint       orange"
      ]
     },
     "execution_count": 8,
     "metadata": {},
     "output_type": "execute_result"
    }
   ],
   "source": [
    "# Print out the data saved to 'head'\n",
    "head"
   ]
  },
  {
   "cell_type": "markdown",
   "metadata": {
    "deletable": false,
    "editable": false,
    "nbgrader": {
     "checksum": "ec3ec822434b84bd3c7dba440532d7d6",
     "grade": false,
     "grade_id": "part2",
     "locked": true,
     "schema_version": 1,
     "solution": false
    }
   },
   "source": [
    "## Part 2: Exploratory Data Vizualization\n",
    "\n",
    "First, we need to do some exploratory data visualization, to get a feel for the data. \n",
    "\n",
    "For plotting questions, do not change or move the 'plt.gcf()' lines. "
   ]
  },
  {
   "cell_type": "code",
   "execution_count": 9,
   "metadata": {
    "collapsed": false,
    "deletable": false,
    "nbgrader": {
     "checksum": "336844f08518dbd0fd40691447cd1623",
     "grade": false,
     "grade_id": "2a",
     "locked": false,
     "schema_version": 1,
     "solution": true
    }
   },
   "outputs": [
    {
     "data": {
      "image/png": "[encoded data removed]",
      "text/plain": [
       "<matplotlib.figure.Figure at 0x114852910>"
      ]
     },
     "metadata": {},
     "output_type": "display_data"
    }
   ],
   "source": [
    "# 2a) Plot the data, using scatter_matrix, from Pandas. Assign it to a variable called 'fig'.\n",
    "\n",
    "fig = pd.scatter_matrix(df)"
   ]
  },
  {
   "cell_type": "code",
   "execution_count": 10,
   "metadata": {
    "collapsed": false,
    "deletable": false,
    "editable": false,
    "nbgrader": {
     "checksum": "f14b11cf1b7d831979da0920a94b5f2a",
     "grade": true,
     "grade_id": "2a_ans",
     "locked": true,
     "points": 0.5,
     "schema_version": 1,
     "solution": false
    }
   },
   "outputs": [],
   "source": [
    "assert np.all(fig)"
   ]
  },
  {
   "cell_type": "code",
   "execution_count": 11,
   "metadata": {
    "collapsed": false,
    "deletable": false,
    "nbgrader": {
     "checksum": "a1497f94569e78935882bea93c45582b",
     "grade": false,
     "grade_id": "2b",
     "locked": false,
     "schema_version": 1,
     "solution": true
    }
   },
   "outputs": [
    {
     "data": {
      "image/png": "[encoded data removed]",
      "text/plain": [
       "<matplotlib.figure.Figure at 0x117fb3f10>"
      ]
     },
     "metadata": {},
     "output_type": "display_data"
    }
   ],
   "source": [
    "# 2b) Plot a bar chart showing the number of students in each majors. \n",
    "#  Hints: you can use 'value_counts' to get the counts for each major. \n",
    "#    You can then use the 'plot' method from pandas for plotting - you don't need matplotlib. \n",
    "\n",
    "df['major'].value_counts().plot(kind = 'bar')\n",
    "f1 = plt.gcf()"
   ]
  },
  {
   "cell_type": "code",
   "execution_count": 12,
   "metadata": {
    "collapsed": false,
    "deletable": false,
    "editable": false,
    "nbgrader": {
     "checksum": "7185d38733659185e168c86f351132f6",
     "grade": true,
     "grade_id": "2b_ans",
     "locked": true,
     "points": 0.5,
     "schema_version": 1,
     "solution": false
    }
   },
   "outputs": [],
   "source": [
    "assert f1.gca().has_data()"
   ]
  },
  {
   "cell_type": "code",
   "execution_count": 13,
   "metadata": {
    "collapsed": false,
    "deletable": false,
    "nbgrader": {
     "checksum": "93e83955d987e257f21122d632c0c7dc",
     "grade": false,
     "grade_id": "2c",
     "locked": false,
     "schema_version": 1,
     "solution": true
    },
    "scrolled": false
   },
   "outputs": [
    {
     "data": {
      "image/png": "[encoded data removed]",
      "text/plain": [
       "<matplotlib.figure.Figure at 0x10453ad50>"
      ]
     },
     "metadata": {},
     "output_type": "display_data"
    }
   ],
   "source": [
    "# 2c) Plot a histogram of the height data for all students who wrote 'cogs' as their major.\n",
    "\n",
    "n, bins, patches = plt.hist(df.loc[df['major'] == 'cogs'].height, 15, normed=0, facecolor='blue', alpha=0.75)\n",
    "plt.xlabel('Height (in inches)')\n",
    "plt.ylabel('Frequency')\n",
    "plt.title(r'Height of all students puruing a cogs major')\n",
    "f2 = plt.gcf()"
   ]
  },
  {
   "cell_type": "code",
   "execution_count": 14,
   "metadata": {
    "collapsed": false,
    "deletable": false,
    "editable": false,
    "nbgrader": {
     "checksum": "c87308acea51c09218a853f7a78d8a3b",
     "grade": true,
     "grade_id": "2c_ans",
     "locked": true,
     "points": 0.5,
     "schema_version": 1,
     "solution": false
    }
   },
   "outputs": [],
   "source": [
    "assert f2.gca().has_data()"
   ]
  },
  {
   "cell_type": "code",
   "execution_count": 15,
   "metadata": {
    "collapsed": false,
    "deletable": false,
    "nbgrader": {
     "checksum": "abd820492f68bb4c614a3656654b93c9",
     "grade": false,
     "grade_id": "2d",
     "locked": false,
     "schema_version": 1,
     "solution": true
    }
   },
   "outputs": [
    {
     "data": {
      "image/png": "[encoded data removed]",
      "text/plain": [
       "<matplotlib.figure.Figure at 0x114222a90>"
      ]
     },
     "metadata": {},
     "output_type": "display_data"
    }
   ],
   "source": [
    "# 2d) Plot a histogram of the height data for all students who wrote 'cs' as their major.\n",
    "\n",
    "n, bins, patches = plt.hist(df.loc[df['major'] == 'cs'].height, 15, normed=0, facecolor='blue', alpha=0.75)\n",
    "plt.xlabel('Height (in inches)')\n",
    "plt.ylabel('Frequency')\n",
    "plt.title(r'Height of all students puruing a cs major')\n",
    "\n",
    "f3 = plt.gcf()"
   ]
  },
  {
   "cell_type": "code",
   "execution_count": 16,
   "metadata": {
    "collapsed": false,
    "deletable": false,
    "editable": false,
    "nbgrader": {
     "checksum": "7f2d3bdceb13ded22ef7b66391a9e157",
     "grade": true,
     "grade_id": "2d_ans",
     "locked": true,
     "points": 0.5,
     "schema_version": 1,
     "solution": false
    }
   },
   "outputs": [],
   "source": [
    "\n",
    "assert f3.gca().has_data()"
   ]
  },
  {
   "cell_type": "markdown",
   "metadata": {
    "deletable": false,
    "editable": false,
    "nbgrader": {
     "checksum": "4c95123e847ab5c0b71765d0b28f2354",
     "grade": false,
     "grade_id": "part3",
     "locked": true,
     "schema_version": 1,
     "solution": false
    }
   },
   "source": [
    "## Part 3: Exploring The Data\n",
    "\n",
    "Beyond just plotting the data, we should check some other basic properties of the data. This serves both as a way to get a 'feel' for the data, and to look for any quirks or oddities about the data, that may indicate issues that need resolving. To do this, let's explore that data a bit (not limiting ourselves to only features that we plan to use - exploring the dataset as a whole can help us find any issues). \n",
    "\n",
    "Notes:\n",
    "- You answers should NOT be pandas objects (Series or DataFrames), extract answers so the variables are ints, floats or strings (as appropriate).\n",
    "- You must answer these questions programmatically: do not count / check and hard code particular values."
   ]
  },
  {
   "cell_type": "code",
   "execution_count": 17,
   "metadata": {
    "collapsed": false,
    "deletable": false,
    "nbgrader": {
     "checksum": "54e674714945bb012baaccc98d184976",
     "grade": false,
     "grade_id": "3a",
     "locked": false,
     "schema_version": 1,
     "solution": true
    }
   },
   "outputs": [],
   "source": [
    "# 3a) How many different majors are in the dataset?\n",
    "#  Save this number to a variable 'n_majors'. \n",
    "\n",
    "n_majors = df['major'].value_counts().size"
   ]
  },
  {
   "cell_type": "code",
   "execution_count": 18,
   "metadata": {
    "collapsed": true,
    "deletable": false,
    "editable": false,
    "nbgrader": {
     "checksum": "67c12baf3effefa347593d313fdb656b",
     "grade": true,
     "grade_id": "3a_ans",
     "locked": true,
     "points": 0.5,
     "schema_version": 1,
     "solution": false
    }
   },
   "outputs": [],
   "source": [
    "assert n_majors\n"
   ]
  },
  {
   "cell_type": "code",
   "execution_count": 19,
   "metadata": {
    "collapsed": false,
    "deletable": false,
    "nbgrader": {
     "checksum": "f4ca0bfab45f5a05cc6b6f815d093481",
     "grade": false,
     "grade_id": "3b",
     "locked": false,
     "schema_version": 1,
     "solution": true
    }
   },
   "outputs": [],
   "source": [
    "# 3b) What is the range (max value - min value) of ages in the dataset?\n",
    "#  Save this number to a variable 'r_age'\n",
    "\n",
    "r_age = df['age'].max() - df['age'].min()"
   ]
  },
  {
   "cell_type": "code",
   "execution_count": 20,
   "metadata": {
    "collapsed": true,
    "deletable": false,
    "editable": false,
    "nbgrader": {
     "checksum": "91df25cc963f0580210035efb8ebbb3c",
     "grade": true,
     "grade_id": "3b_ans",
     "locked": true,
     "points": 0.5,
     "schema_version": 1,
     "solution": false
    }
   },
   "outputs": [],
   "source": [
    "assert r_age\n"
   ]
  },
  {
   "cell_type": "code",
   "execution_count": 21,
   "metadata": {
    "collapsed": false,
    "deletable": false,
    "nbgrader": {
     "checksum": "b2d0236211a0d78e64d354f039dafc3f",
     "grade": false,
     "grade_id": "3c",
     "locked": false,
     "schema_version": 1,
     "solution": true
    },
    "scrolled": true
   },
   "outputs": [],
   "source": [
    "# 3c) What is the most popular ice cream flavour?\n",
    "#  Save the ice cream name to the variable 'f_ice', and the number of people who like it to a variable 'n_ice'.\n",
    "#  Hint: you can get these values using the 'value_counts' method.\n",
    "\n",
    "n_ice = df['ice_cream'].value_counts()[0]\n",
    "f_ice = df['ice_cream'].value_counts().index[0]"
   ]
  },
  {
   "cell_type": "code",
   "execution_count": 22,
   "metadata": {
    "collapsed": true,
    "deletable": false,
    "editable": false,
    "nbgrader": {
     "checksum": "6d0975817496fddb8dfc88e4c8fb60c6",
     "grade": true,
     "grade_id": "3c_ans",
     "locked": true,
     "points": 0.5,
     "schema_version": 1,
     "solution": false
    }
   },
   "outputs": [],
   "source": [
    "assert n_ice\n",
    "assert f_ice\n"
   ]
  },
  {
   "cell_type": "code",
   "execution_count": 23,
   "metadata": {
    "collapsed": false,
    "deletable": false,
    "nbgrader": {
     "checksum": "c0ac160b80c121ef905bac02f9356e55",
     "grade": false,
     "grade_id": "3d",
     "locked": false,
     "schema_version": 1,
     "solution": true
    }
   },
   "outputs": [],
   "source": [
    "# 3d) How many people have a unique favourite ice cream? (How many ice cream flavours are only 1 persons favourite?)\n",
    "#  Save this number to a variable 'u_ice'\n",
    "\n",
    "u_ice = 0\n",
    "length = (len(df['ice_cream'].value_counts()))\n",
    "for j in range(len(df['ice_cream'].value_counts())):\n",
    "    if(df['ice_cream'].value_counts()[length - j - 1] == 1):\n",
    "        u_ice = u_ice + 1\n",
    "    else:\n",
    "        break"
   ]
  },
  {
   "cell_type": "code",
   "execution_count": 24,
   "metadata": {
    "collapsed": false,
    "deletable": false,
    "editable": false,
    "nbgrader": {
     "checksum": "7ae4392f8699daebcf0a716319a3c069",
     "grade": true,
     "grade_id": "3d_ans",
     "locked": true,
     "points": 0.5,
     "schema_version": 1,
     "solution": false
    }
   },
   "outputs": [],
   "source": [
    "assert u_ice\n"
   ]
  },
  {
   "cell_type": "markdown",
   "metadata": {
    "deletable": false,
    "editable": false,
    "nbgrader": {
     "checksum": "9121cbb9f7490dea9bd9fe37ea12a276",
     "grade": false,
     "grade_id": "part4",
     "locked": true,
     "schema_version": 1,
     "solution": false
    }
   },
   "source": [
    "## Part 4: Data Analysis\n",
    "\n",
    "Now let's analyze the data, to address our research question.\n",
    "\n",
    "For the purposes of this analysis, let's assume we need at least 75 students per major to analyze the height data. \n",
    "\n",
    "This means we are only going to use data from people who wrote 'cogs' or 'cs' as their major. \n",
    "\n",
    "Note that there are people who reported similar majors, such as 'math-cs' or 'cogs-dsgn'. \n",
    "\n",
    "We could consider combining some of these groups, but, for the purpose of this assignment, do NOT combine any different major labels together. This assignment assumes you use only data marked specfically as 'cogs' or 'cs'. "
   ]
  },
  {
   "cell_type": "code",
   "execution_count": 25,
   "metadata": {
    "collapsed": false,
    "deletable": false,
    "nbgrader": {
     "checksum": "397cf67dd9b829ff8cf5bf9d72541578",
     "grade": false,
     "grade_id": "4a",
     "locked": false,
     "schema_version": 1,
     "solution": true
    }
   },
   "outputs": [],
   "source": [
    "# 4a) Pull out the data we are going to use:\n",
    "#  Save the height data for all 'cogs' majors to a variable called 'h_co'\n",
    "#  Save the height data for all 'cs' majors to a variable called 'h_cs'\n",
    "\n",
    "h_co = df.loc[df['major'] == 'cogs'].height\n",
    "h_cs = df.loc[df['major'] == 'cs'].height"
   ]
  },
  {
   "cell_type": "code",
   "execution_count": 26,
   "metadata": {
    "collapsed": false,
    "deletable": false,
    "editable": false,
    "nbgrader": {
     "checksum": "05e5e23327e4c8322910890efa5b0a59",
     "grade": true,
     "grade_id": "4a_ans",
     "locked": true,
     "points": 0.5,
     "schema_version": 1,
     "solution": false
    }
   },
   "outputs": [],
   "source": [
    "assert np.all(h_co)\n",
    "assert np.all(h_cs)\n"
   ]
  },
  {
   "cell_type": "code",
   "execution_count": 27,
   "metadata": {
    "collapsed": false,
    "deletable": false,
    "nbgrader": {
     "checksum": "48d7444cdc54c769634fa9414ce348fa",
     "grade": false,
     "grade_id": "4b",
     "locked": false,
     "schema_version": 1,
     "solution": true
    }
   },
   "outputs": [],
   "source": [
    "# 4b) What is the average (mean) height for students from each major?\n",
    "#  Save these values to 'avg_h_co' for cogs students, and 'avg_h_cs' for cs students. \n",
    "\n",
    "avg_h_co = h_co.mean()\n",
    "avg_h_cs = h_cs.mean()\n",
    "\n"
   ]
  },
  {
   "cell_type": "code",
   "execution_count": 28,
   "metadata": {
    "collapsed": true,
    "deletable": false,
    "editable": false,
    "nbgrader": {
     "checksum": "2f6d24a003d0104b9deb85befc08f643",
     "grade": true,
     "grade_id": "4b_ans",
     "locked": true,
     "points": 0.5,
     "schema_version": 1,
     "solution": false
    }
   },
   "outputs": [],
   "source": [
    "assert avg_h_co\n",
    "assert avg_h_cs\n"
   ]
  },
  {
   "cell_type": "code",
   "execution_count": 29,
   "metadata": {
    "collapsed": false,
    "deletable": false,
    "editable": false,
    "nbgrader": {
     "checksum": "c2ad6cfdd5a318afbbd523a561ed65e0",
     "grade": false,
     "grade_id": "print_avgs",
     "locked": true,
     "schema_version": 1,
     "solution": false
    }
   },
   "outputs": [
    {
     "name": "stdout",
     "output_type": "stream",
     "text": [
      "('Average height of cogs majors: \\t', 67.45192307692308)\n",
      "('Average height of cs majors: \\t', 68.5)\n"
     ]
    }
   ],
   "source": [
    "# Print out the average heights - this code provided\n",
    "print('Average height of cogs majors: \\t', avg_h_co)\n",
    "print('Average height of cs majors: \\t', avg_h_cs)"
   ]
  },
  {
   "cell_type": "markdown",
   "metadata": {
    "deletable": false,
    "editable": false,
    "nbgrader": {
     "checksum": "918af4fa15a268d112340ef50c404ba9",
     "grade": false,
     "grade_id": "ttest_instr",
     "locked": true,
     "schema_version": 1,
     "solution": false
    }
   },
   "source": [
    "Based on the cell above, it looks like there might indeed be a different in the average height for students in cogs vs cs majors. \n",
    "\n",
    "Now we want to statistically test this difference. To do so, we will use a t-test. "
   ]
  },
  {
   "cell_type": "code",
   "execution_count": 30,
   "metadata": {
    "collapsed": false,
    "deletable": false,
    "nbgrader": {
     "checksum": "c3d4f7ffabb4980f64dfdfe9e3f0b0b2",
     "grade": false,
     "grade_id": "4c",
     "locked": false,
     "schema_version": 1,
     "solution": true
    },
    "scrolled": true
   },
   "outputs": [],
   "source": [
    "# 4c) Use a t-test ('ttest_ind' function) to compare the two height distributions ('h_co' vs 'h_cs')\n",
    "#  'ttest_ind' returns a t-statistic, and a p-value. Save these outputs to 't' and 'p' respectively. \n",
    "\n",
    "t, p = ttest_ind(h_co, h_cs)"
   ]
  },
  {
   "cell_type": "code",
   "execution_count": 31,
   "metadata": {
    "collapsed": false,
    "deletable": false,
    "editable": false,
    "nbgrader": {
     "checksum": "c88a63b14c43f4caffc773471a3c8bb9",
     "grade": true,
     "grade_id": "4c_ans",
     "locked": true,
     "points": 0.5,
     "schema_version": 1,
     "solution": false
    }
   },
   "outputs": [],
   "source": [
    "assert t\n",
    "assert p\n"
   ]
  },
  {
   "cell_type": "code",
   "execution_count": 32,
   "metadata": {
    "collapsed": false,
    "deletable": false,
    "editable": false,
    "nbgrader": {
     "checksum": "2f1af953413f754b7702348f7dda9180",
     "grade": false,
     "grade_id": "print_p",
     "locked": true,
     "schema_version": 1,
     "solution": false
    }
   },
   "outputs": [
    {
     "name": "stdout",
     "output_type": "stream",
     "text": [
      "Data Science accomplished, there is a significant difference!\n"
     ]
    }
   ],
   "source": [
    "# Check if statistical test passes significance - this code provided.\n",
    "if p < 0.05:\n",
    "    print('Data Science accomplished, there is a significant difference!')"
   ]
  },
  {
   "cell_type": "markdown",
   "metadata": {
    "deletable": false,
    "editable": false,
    "nbgrader": {
     "checksum": "df5db60be9fafb0fd7681c2a303bd2ef",
     "grade": false,
     "grade_id": "break",
     "locked": true,
     "schema_version": 1,
     "solution": false
    }
   },
   "source": [
    "Note: this test should pass significance. If it doesn't, check your code up until this point.\n",
    "\n",
    "So - our research question has support! We're done right!?\n",
    "\n",
    "#### We have a potentially interesting result: let's try and break it.\n",
    "\n",
    "In particular, we should be worried about confounds. Correlation does not equal causation, and we should be asking whether this relationship can be better explained by some other variable. For example, we also have data on gender: let's see if differences in the gender ratio of the two majors can explain the different in height. "
   ]
  },
  {
   "cell_type": "code",
   "execution_count": 42,
   "metadata": {
    "collapsed": false,
    "deletable": false,
    "nbgrader": {
     "checksum": "dce137beef27f3d34ce776ced38e1c40",
     "grade": false,
     "grade_id": "4d",
     "locked": false,
     "schema_version": 1,
     "solution": true
    }
   },
   "outputs": [],
   "source": [
    "# 4d) Using 'value_counts' from pandas, extract the number of 'm' and 'f', separately for cogs and cs students. \n",
    "#  Save the counts for each gender for 'cogs' majors to a variable called 'g_co'\n",
    "#  Save the counts for each gender for 'cs' majors to a variable called 'g_cs'\n",
    "\n",
    "g_co = df.loc[df['major'] == 'cogs'].gender.value_counts()\n",
    "g_cs = df.loc[df['major'] == 'cs'].gender.value_counts()"
   ]
  },
  {
   "cell_type": "code",
   "execution_count": 43,
   "metadata": {
    "collapsed": false,
    "deletable": false,
    "editable": false,
    "nbgrader": {
     "checksum": "7d6502dbe587edc3dd208f71c07a27b2",
     "grade": true,
     "grade_id": "4d_ans",
     "locked": true,
     "points": 0.5,
     "schema_version": 1,
     "solution": false
    }
   },
   "outputs": [],
   "source": [
    "assert np.all(g_co)\n",
    "assert np.all(g_cs)\n"
   ]
  },
  {
   "cell_type": "code",
   "execution_count": 44,
   "metadata": {
    "collapsed": false,
    "deletable": false,
    "nbgrader": {
     "checksum": "bd4925ce447244db60e6ac2331c27f30",
     "grade": false,
     "grade_id": "4e",
     "locked": false,
     "schema_version": 1,
     "solution": true
    }
   },
   "outputs": [],
   "source": [
    "# 4e) What is the ratio of women in each major? Use the 'g_co' and 'g_cs' variables to do so. \n",
    "#  Save the ratio of women in cogs to a variable 'r_co'\n",
    "#  Save the ratio of women in cs to a variable 'r_cs'\n",
    "#  Note: keep these numbers as ratios (they should be decimal numbers, less than 1)\n",
    "\n",
    "r_co = g_co['f']/float((g_co['f'] + g_co['m']))\n",
    "r_cs = g_cs['f']/float((g_cs['f'] + g_cs['m']))"
   ]
  },
  {
   "cell_type": "code",
   "execution_count": 45,
   "metadata": {
    "collapsed": false,
    "deletable": false,
    "editable": false,
    "nbgrader": {
     "checksum": "08fa378ff3c30c998bfe79c6d2ea250e",
     "grade": true,
     "grade_id": "4e_ans",
     "locked": true,
     "points": 0.5,
     "schema_version": 1,
     "solution": false
    }
   },
   "outputs": [],
   "source": [
    "assert r_co\n",
    "assert r_cs\n"
   ]
  },
  {
   "cell_type": "code",
   "execution_count": 46,
   "metadata": {
    "collapsed": false,
    "deletable": false,
    "nbgrader": {
     "checksum": "b262d0432fdcccdbcbadaf4fb16b3157",
     "grade": false,
     "grade_id": "4f",
     "locked": false,
     "schema_version": 1,
     "solution": true
    },
    "scrolled": true
   },
   "outputs": [],
   "source": [
    "# 4f) Create a new dataframe, called 'df2', which only includes data from 'cogs' and 'cs' majors.\n",
    "#  Hint: you can do this using the or operate '|', with loc. \n",
    "\n",
    "df2 = df.loc[(df['major'] == 'cs') | (df['major'] == 'cogs')]"
   ]
  },
  {
   "cell_type": "code",
   "execution_count": 47,
   "metadata": {
    "collapsed": false,
    "deletable": false,
    "editable": false,
    "nbgrader": {
     "checksum": "50637d03d8c7595f80d0cba764fa6597",
     "grade": true,
     "grade_id": "4f_ans",
     "locked": true,
     "points": 0.5,
     "schema_version": 1,
     "solution": false
    }
   },
   "outputs": [],
   "source": [
    "assert isinstance(df2, pd.DataFrame)\n",
    "assert df2.shape == (186, 8)\n",
    "assert df2.isnull().sum().sum() == 0\n"
   ]
  },
  {
   "cell_type": "code",
   "execution_count": 48,
   "metadata": {
    "collapsed": false,
    "deletable": false,
    "nbgrader": {
     "checksum": "97d8db4747024da6586d0297be54fd5e",
     "grade": false,
     "grade_id": "4g",
     "locked": false,
     "schema_version": 1,
     "solution": true
    }
   },
   "outputs": [],
   "source": [
    "# 4g) Another way to look at these kinds of comparisons is pivot tables. \n",
    "#  Use the pandas 'pivot_table' method to create pivot table, assign it to a variable 'pv'\n",
    "#  Set the values as'height', and the indices as 'gender' and 'major' in the pivot table.\n",
    "#  Make sure you do this using 'df2'. \n",
    "\n",
    "pv = df2.pivot_table(values = 'height', index = {'gender', 'major'})"
   ]
  },
  {
   "cell_type": "code",
   "execution_count": 49,
   "metadata": {
    "collapsed": false,
    "deletable": false,
    "editable": false,
    "nbgrader": {
     "checksum": "b8b6d0e3fb61030fa119c70439750d4f",
     "grade": true,
     "grade_id": "4g_ans",
     "locked": true,
     "points": 0.5,
     "schema_version": 1,
     "solution": false
    }
   },
   "outputs": [],
   "source": [
    "assert np.all(pv)\n"
   ]
  },
  {
   "cell_type": "code",
   "execution_count": 50,
   "metadata": {
    "collapsed": false,
    "deletable": false,
    "editable": false,
    "nbgrader": {
     "checksum": "b04f2e70815689da3af7b89cb448f92e",
     "grade": false,
     "grade_id": "print_pv",
     "locked": true,
     "schema_version": 1,
     "solution": false
    }
   },
   "outputs": [
    {
     "data": {
      "text/plain": [
       "gender  major\n",
       "f       cogs     64.571429\n",
       "        cs       64.285714\n",
       "m       cogs     69.403226\n",
       "        cs       69.367647\n",
       "Name: height, dtype: float64"
      ]
     },
     "execution_count": 50,
     "metadata": {},
     "output_type": "execute_result"
    }
   ],
   "source": [
    "# Print out the pivot table you just created. \n",
    "#  Compare the average height values, split up by major and gender.\n",
    "#  Does it look like there are differences in heights by major, when spit up by major?\n",
    "pv"
   ]
  },
  {
   "cell_type": "markdown",
   "metadata": {
    "deletable": false,
    "editable": false,
    "nbgrader": {
     "checksum": "c47cecba213375225fdfc3cb4c13dea9",
     "grade": false,
     "grade_id": "lm_instr",
     "locked": true,
     "schema_version": 1,
     "solution": false
    }
   },
   "source": [
    "For the following question you will need to make some linear models, using Ordinary Least Squares (OLS).\n",
    "\n",
    "There is more than one way to do this in Python. For the purposes of this assignment, you must use the method that is outlined in SectionMaterials 'LinearModels'. \n",
    "\n",
    "That is: \n",
    "- Create design matrices with 'patsy.dmatrices'\n",
    "- Iniliaize an OLS model with 'sm.OLS'\n",
    "- Fit the OLS model\n",
    "- Check the summary for results. "
   ]
  },
  {
   "cell_type": "code",
   "execution_count": 51,
   "metadata": {
    "collapsed": false,
    "deletable": false,
    "nbgrader": {
     "checksum": "9ef88f4ff20f6d181756eb35edbeb470",
     "grade": false,
     "grade_id": "4h",
     "locked": false,
     "schema_version": 1,
     "solution": true
    }
   },
   "outputs": [],
   "source": [
    "# 4h) Create a linear model to predict height from major (using df2 as data).\n",
    "#  Use patsy.dmatrices to create the design matrices, calling the outputs 'outcome_1', 'predictors_1'\n",
    "#  Create an OLS model (sm.OLS) using 'outcome_1' and 'predictors_1'. Call it 'mod_1'.\n",
    "#  Fit the model, assigning it to 'res_1'\n",
    "\n",
    "outcome_1, predictors_1 = patsy.dmatrices(\"height ~ major\", df2)\n",
    "mod_1 = sm.OLS (outcome_1, predictors_1)\n",
    "res_1 = mod_1.fit()"
   ]
  },
  {
   "cell_type": "code",
   "execution_count": 52,
   "metadata": {
    "collapsed": false,
    "deletable": false,
    "editable": false,
    "nbgrader": {
     "checksum": "3544ec379647264dc40bcd7b14142101",
     "grade": true,
     "grade_id": "4h_ans",
     "locked": true,
     "points": 0.75,
     "schema_version": 1,
     "solution": false
    }
   },
   "outputs": [],
   "source": [
    "assert isinstance(outcome_1, patsy.design_info.DesignMatrix)\n",
    "assert isinstance(predictors_1, patsy.design_info.DesignMatrix)\n",
    "assert isinstance(mod_1, sm.regression.linear_model.OLS)\n",
    "assert isinstance(res_1, sm.regression.linear_model.RegressionResultsWrapper)\n"
   ]
  },
  {
   "cell_type": "code",
   "execution_count": 53,
   "metadata": {
    "collapsed": false,
    "deletable": false,
    "editable": false,
    "nbgrader": {
     "checksum": "60838c1d7fea9c0f6b34cee79d2af426",
     "grade": false,
     "grade_id": "print_lm1",
     "locked": true,
     "schema_version": 1,
     "solution": false
    }
   },
   "outputs": [
    {
     "name": "stdout",
     "output_type": "stream",
     "text": [
      "                            OLS Regression Results                            \n",
      "==============================================================================\n",
      "Dep. Variable:                 height   R-squared:                       0.023\n",
      "Model:                            OLS   Adj. R-squared:                  0.017\n",
      "Method:                 Least Squares   F-statistic:                     4.286\n",
      "Date:                Fri, 26 May 2017   Prob (F-statistic):             0.0398\n",
      "Time:                        18:43:01   Log-Likelihood:                -492.07\n",
      "No. Observations:                 186   AIC:                             988.1\n",
      "Df Residuals:                     184   BIC:                             994.6\n",
      "Df Model:                           1                                         \n",
      "Covariance Type:            nonrobust                                         \n",
      "===============================================================================\n",
      "                  coef    std err          t      P>|t|      [95.0% Conf. Int.]\n",
      "-------------------------------------------------------------------------------\n",
      "Intercept      67.4519      0.336    200.662      0.000        66.789    68.115\n",
      "major[T.cs]     1.0481      0.506      2.070      0.040         0.049     2.047\n",
      "==============================================================================\n",
      "Omnibus:                        2.724   Durbin-Watson:                   2.086\n",
      "Prob(Omnibus):                  0.256   Jarque-Bera (JB):                2.782\n",
      "Skew:                          -0.272   Prob(JB):                        0.249\n",
      "Kurtosis:                       2.747   Cond. No.                         2.50\n",
      "==============================================================================\n",
      "\n",
      "Warnings:\n",
      "[1] Standard Errors assume that the covariance matrix of the errors is correctly specified.\n"
     ]
    }
   ],
   "source": [
    "# Print out the summary results of the model fitting\n",
    "print(res_1.summary())"
   ]
  },
  {
   "cell_type": "code",
   "execution_count": 54,
   "metadata": {
    "collapsed": true,
    "deletable": false,
    "nbgrader": {
     "checksum": "6f1cbca22d4392a6b75caa0f8d29746f",
     "grade": false,
     "grade_id": "4i",
     "locked": false,
     "schema_version": 1,
     "solution": true
    }
   },
   "outputs": [],
   "source": [
    "# 4i) Based on the model you ran above (using alpha value of 0.05), does major significantly predict height?\n",
    "#  Set your answer as a boolean (True / False) to a variable called 'lm_1'.\n",
    "\n",
    "\n",
    "lm_1 = True"
   ]
  },
  {
   "cell_type": "code",
   "execution_count": 55,
   "metadata": {
    "collapsed": true,
    "deletable": false,
    "editable": false,
    "nbgrader": {
     "checksum": "b7346a220050f8ad7eea4a57ed004ee0",
     "grade": true,
     "grade_id": "4i_ans",
     "locked": true,
     "points": 0.5,
     "schema_version": 1,
     "solution": false
    }
   },
   "outputs": [],
   "source": [
    "assert isinstance(lm_1, bool)\n"
   ]
  },
  {
   "cell_type": "code",
   "execution_count": 56,
   "metadata": {
    "collapsed": false,
    "deletable": false,
    "nbgrader": {
     "checksum": "23e03b5071678b303687c78d6bd0f3a9",
     "grade": false,
     "grade_id": "4j",
     "locked": false,
     "schema_version": 1,
     "solution": true
    }
   },
   "outputs": [],
   "source": [
    "# 4j) Create a linear model to predict height from both major and gender (using df2 as data).\n",
    "#  Use patsy.dmatrices to create the design matrices, calling the outputs 'outcome_2', 'predictors_2'\n",
    "#  Create an OLS model (sm.OLS) using 'outcome_2' and 'predictors_2'.  Call it 'mod_2'.\n",
    "#  Fit the model, assigning it to 'res_2'\n",
    "\n",
    "outcome_2, predictors_2 = patsy.dmatrices(\"height ~ major + gender\", df2)\n",
    "mod_2 = sm.OLS (outcome_2, predictors_2)\n",
    "res_2 = mod_2.fit()"
   ]
  },
  {
   "cell_type": "code",
   "execution_count": 57,
   "metadata": {
    "collapsed": false,
    "deletable": false,
    "editable": false,
    "nbgrader": {
     "checksum": "bfc573d0deaaa618f449f5b9f4d240e4",
     "grade": true,
     "grade_id": "4j_ans",
     "locked": true,
     "points": 0.75,
     "schema_version": 1,
     "solution": false
    }
   },
   "outputs": [],
   "source": [
    "assert isinstance(outcome_2, patsy.design_info.DesignMatrix)\n",
    "assert isinstance(predictors_2, patsy.design_info.DesignMatrix)\n",
    "assert isinstance(mod_2, sm.regression.linear_model.OLS)\n",
    "assert isinstance(res_2, sm.regression.linear_model.RegressionResultsWrapper)\n"
   ]
  },
  {
   "cell_type": "code",
   "execution_count": 58,
   "metadata": {
    "collapsed": false,
    "deletable": false,
    "editable": false,
    "nbgrader": {
     "checksum": "5f50ad244b3bd379017fda0dcb36e7ba",
     "grade": false,
     "grade_id": "print_lm2",
     "locked": true,
     "schema_version": 1,
     "solution": false
    }
   },
   "outputs": [
    {
     "name": "stdout",
     "output_type": "stream",
     "text": [
      "                            OLS Regression Results                            \n",
      "==============================================================================\n",
      "Dep. Variable:                 height   R-squared:                       0.422\n",
      "Model:                            OLS   Adj. R-squared:                  0.416\n",
      "Method:                 Least Squares   F-statistic:                     66.87\n",
      "Date:                Fri, 26 May 2017   Prob (F-statistic):           1.58e-22\n",
      "Time:                        18:43:03   Log-Likelihood:                -443.19\n",
      "No. Observations:                 186   AIC:                             892.4\n",
      "Df Residuals:                     183   BIC:                             902.1\n",
      "Df Model:                           2                                         \n",
      "Covariance Type:            nonrobust                                         \n",
      "===============================================================================\n",
      "                  coef    std err          t      P>|t|      [95.0% Conf. Int.]\n",
      "-------------------------------------------------------------------------------\n",
      "Intercept      64.5242      0.367    175.669      0.000        63.799    65.249\n",
      "major[T.cs]    -0.0968      0.403     -0.240      0.811        -0.893     0.699\n",
      "gender[T.m]     4.9110      0.437     11.249      0.000         4.050     5.772\n",
      "==============================================================================\n",
      "Omnibus:                        2.073   Durbin-Watson:                   2.085\n",
      "Prob(Omnibus):                  0.355   Jarque-Bera (JB):                2.145\n",
      "Skew:                           0.240   Prob(JB):                        0.342\n",
      "Kurtosis:                       2.784   Cond. No.                         3.67\n",
      "==============================================================================\n",
      "\n",
      "Warnings:\n",
      "[1] Standard Errors assume that the covariance matrix of the errors is correctly specified.\n"
     ]
    }
   ],
   "source": [
    "# Print out the results \n",
    "print(res_2.summary())"
   ]
  },
  {
   "cell_type": "code",
   "execution_count": 59,
   "metadata": {
    "collapsed": true,
    "deletable": false,
    "nbgrader": {
     "checksum": "a10c745bb1e1da5951dad61c3f5c5704",
     "grade": false,
     "grade_id": "4k",
     "locked": false,
     "schema_version": 1,
     "solution": true
    }
   },
   "outputs": [],
   "source": [
    "# 4k) Based on the model you ran above (using alpha value of 0.05), does major significantly predict height?\n",
    "#  Set your answer as a boolean (True / False) to a variable called 'lm_2'\n",
    "\n",
    "lm_2 = False"
   ]
  },
  {
   "cell_type": "code",
   "execution_count": 60,
   "metadata": {
    "collapsed": false,
    "deletable": false,
    "editable": false,
    "nbgrader": {
     "checksum": "c54d9743bed32adaa8bc7e572a035c92",
     "grade": true,
     "grade_id": "4k_ans",
     "locked": true,
     "points": 0.5,
     "schema_version": 1,
     "solution": false
    }
   },
   "outputs": [],
   "source": [
    "assert isinstance(lm_2, bool)\n"
   ]
  },
  {
   "cell_type": "markdown",
   "metadata": {
    "deletable": false,
    "editable": false,
    "nbgrader": {
     "checksum": "6a2725893d88a14cb07a659b839aaec8",
     "grade": false,
     "grade_id": "part5",
     "locked": true,
     "schema_version": 1,
     "solution": false
    }
   },
   "source": [
    "## Part 5: Discussion & Conclusions"
   ]
  },
  {
   "cell_type": "code",
   "execution_count": 61,
   "metadata": {
    "collapsed": true,
    "deletable": false,
    "nbgrader": {
     "checksum": "ed317104ec95c75dc52d7fb5788b3e67",
     "grade": false,
     "grade_id": "5a",
     "locked": false,
     "schema_version": 1,
     "solution": true
    }
   },
   "outputs": [],
   "source": [
    "# 5a) Set a boolean variables, called 'ans', as True or False as the answer to the following question:\n",
    "#  We have evidence supporting our research question:\n",
    "#    People in different majors have systematically different heights. \n",
    "\n",
    "ans = False"
   ]
  },
  {
   "cell_type": "code",
   "execution_count": 62,
   "metadata": {
    "collapsed": true,
    "deletable": false,
    "editable": false,
    "nbgrader": {
     "checksum": "657b13f33f5b94c830917548601dbb3d",
     "grade": true,
     "grade_id": "5a_ans",
     "locked": true,
     "points": 1,
     "schema_version": 1,
     "solution": false
    }
   },
   "outputs": [],
   "source": [
    "assert isinstance(ans, bool)\n"
   ]
  },
  {
   "cell_type": "code",
   "execution_count": 63,
   "metadata": {
    "collapsed": true
   },
   "outputs": [],
   "source": [
    "# 5b) Write a short response (1 sentence) summarizing the results.\n",
    "#  Did we support our hypothesis? Why or why not?\n",
    "\n",
    "# The height depends on gender rather than the major. "
   ]
  },
  {
   "cell_type": "markdown",
   "metadata": {
    "deletable": false,
    "editable": false,
    "nbgrader": {
     "checksum": "16353140f5dd20c3f50d9e28a2020ddc",
     "grade": false,
     "grade_id": "other_parts",
     "locked": true,
     "schema_version": 1,
     "solution": false
    }
   },
   "source": [
    "## Parts 6-8: Other Stuff\n",
    "\n",
    "This part of the assignment breaks from the project narrative we've using above. \n",
    "\n",
    "In the following questions, we will briefly explore some other topics, approaches and techniques that have (or will) be addressed in the class, and may be useful for you projects. These are 'toy' examples of these methods, used to get you working with these methods. \n",
    "\n",
    "Watch the class lectures for an overview of how these methods actually work, and go through the SectionMaterials notebooks (linked below) to see examples and guides as to how to use these methods in Python."
   ]
  },
  {
   "cell_type": "code",
   "execution_count": 64,
   "metadata": {
    "collapsed": false,
    "deletable": false,
    "editable": false,
    "nbgrader": {
     "checksum": "610f5eac0686ec5e2111892e2ae664f5",
     "grade": false,
     "grade_id": "imports_2",
     "locked": true,
     "schema_version": 1,
     "solution": false
    }
   },
   "outputs": [],
   "source": [
    "# You will need the following functions for the last section of the assignment\n",
    "#  You should not import any other functions\n",
    "import scipy.stats as stats\n",
    "from scipy.stats import normaltest\n",
    "from sklearn.cluster import KMeans\n",
    "from scipy.cluster.vq import whiten\n",
    "from sklearn.decomposition import PCA"
   ]
  },
  {
   "cell_type": "markdown",
   "metadata": {
    "deletable": false,
    "editable": false,
    "nbgrader": {
     "checksum": "c13d436f535f1886e255d9522dbb2f35",
     "grade": false,
     "grade_id": "part6",
     "locked": true,
     "schema_version": 1,
     "solution": false
    }
   },
   "source": [
    "### Part 6: Testing Distributions\n",
    "\n",
    "Above, we used a t-test, which assumes normal distributions. \n",
    "\n",
    "However, we did not check if our data are indeed normally distributed! When using methods / statistical tests that make certain assumptions, it's always best to explicitly check if your data meet those assumptions (otherwise the results may be invalid). Let's test if our data are in fact normally distributed.  \n",
    "\n",
    "See an example of how to test the disributions of data in the 'TestingDistributions' notebook in SectionMaterials. "
   ]
  },
  {
   "cell_type": "code",
   "execution_count": 65,
   "metadata": {
    "collapsed": true,
    "deletable": false,
    "editable": false,
    "nbgrader": {
     "checksum": "20261d1e42565c594740d2b2e9a2aa77",
     "grade": false,
     "grade_id": "6_load",
     "locked": true,
     "schema_version": 1,
     "solution": false
    }
   },
   "outputs": [],
   "source": [
    "# For convenience, and consistency, we're providing this code to pull out the required data\n",
    "h_co = df[df['major'] == 'cogs']['height'].values\n",
    "h_cs = df[df['major'] == 'cs']['height'].values"
   ]
  },
  {
   "cell_type": "code",
   "execution_count": 66,
   "metadata": {
    "collapsed": false,
    "deletable": false,
    "nbgrader": {
     "checksum": "74e6c8cf6cec925e866b543784cc8e8c",
     "grade": false,
     "grade_id": "6a",
     "locked": false,
     "schema_version": 1,
     "solution": true
    }
   },
   "outputs": [],
   "source": [
    "# 6a) For each of 'h_co', and 'h_cs', use the 'normaltest' function to test for normality of the distribution.\n",
    "#  'normaltest' returns two values, a test statistic and a p-value\n",
    "#    Save these values as 'st_co', 'p_co', 'st_cs', and 'p_cs' respectively.\n",
    "\n",
    "st_co, p_co = normaltest(h_co)\n",
    "st_cs, p_cs = normaltest(h_cs)"
   ]
  },
  {
   "cell_type": "code",
   "execution_count": 67,
   "metadata": {
    "collapsed": false,
    "deletable": false,
    "editable": false,
    "nbgrader": {
     "checksum": "85020b3063939541e7e51f167aba9caa",
     "grade": true,
     "grade_id": "6a_ans",
     "locked": true,
     "points": 0.5,
     "schema_version": 1,
     "solution": false
    }
   },
   "outputs": [],
   "source": [
    "assert st_co\n",
    "assert p_co\n",
    "assert st_cs\n",
    "assert p_cs\n"
   ]
  },
  {
   "cell_type": "markdown",
   "metadata": {
    "deletable": false,
    "editable": false,
    "nbgrader": {
     "checksum": "250eb1b35e69f94a5bf83255d2d7a476",
     "grade": false,
     "grade_id": "6_check",
     "locked": true,
     "schema_version": 1,
     "solution": false
    }
   },
   "source": [
    "Have a look at the values returned. \n",
    "\n",
    "Based on these results (and using an alpha significance value of 0.5):\n",
    "\n",
    "Set boolean values (True, False) of whether each distribution can be considered to be normally distributed (set as True if the test supports it is normally distributed (or, more formally, we have not rejected the null hypothesis), and False if the test suggests the data is not normally distributed (we should reject the null hypothesis)."
   ]
  },
  {
   "cell_type": "code",
   "execution_count": 68,
   "metadata": {
    "collapsed": true,
    "deletable": false,
    "nbgrader": {
     "checksum": "89bb090ad3867279c377efaa0394ab74",
     "grade": false,
     "grade_id": "6b",
     "locked": false,
     "schema_version": 1,
     "solution": true
    }
   },
   "outputs": [],
   "source": [
    "# 6b) Set boolean values, as specified above.\n",
    "#  For the 'h_co' data, set a boolean value to the var 'is_n_co'\n",
    "#  For the 'h_cs' data, set a boolean value to the var 'is_n_cs'\n",
    "is_n_co = False\n",
    "is_n_cs = True"
   ]
  },
  {
   "cell_type": "code",
   "execution_count": 69,
   "metadata": {
    "collapsed": false,
    "deletable": false,
    "editable": false,
    "nbgrader": {
     "checksum": "85b00e0db6e752aaf07f5ec96abf7293",
     "grade": true,
     "grade_id": "6b_ans",
     "locked": true,
     "points": 0.5,
     "schema_version": 1,
     "solution": false
    }
   },
   "outputs": [],
   "source": [
    "assert isinstance(is_n_co, bool)\n",
    "assert isinstance(is_n_cs, bool)\n"
   ]
  },
  {
   "cell_type": "code",
   "execution_count": 70,
   "metadata": {
    "collapsed": false,
    "deletable": false,
    "editable": false,
    "nbgrader": {
     "checksum": "e598dac7a5255554c8145da7f1c66d33",
     "grade": false,
     "grade_id": "6_pl_1",
     "locked": true,
     "schema_version": 1,
     "solution": false
    }
   },
   "outputs": [
    {
     "data": {
      "image/png": "[encoded data removed]",
      "text/plain": [
       "<matplotlib.figure.Figure at 0x11a3088d0>"
      ]
     },
     "metadata": {},
     "output_type": "display_data"
    }
   ],
   "source": [
    "# CO data: plot the comparison to a normal distribution (this code provided)\n",
    "xs = np.arange(h_co.min(), h_co.max(), 0.1)\n",
    "fit = stats.norm.pdf(xs, np.mean(h_co), np.std(h_co))\n",
    "plt.plot(xs, fit, label='Normal Dist.', lw=3)\n",
    "plt.hist(h_co, normed=True, label='Actual Data');\n",
    "plt.legend();"
   ]
  },
  {
   "cell_type": "code",
   "execution_count": 71,
   "metadata": {
    "collapsed": false,
    "deletable": false,
    "editable": false,
    "nbgrader": {
     "checksum": "290a842b6184103bde10a45ffcb18581",
     "grade": false,
     "grade_id": "6_pl_2",
     "locked": true,
     "schema_version": 1,
     "solution": false
    }
   },
   "outputs": [
    {
     "data": {
      "image/png": "[encoded data removed]",
      "text/plain": [
       "<matplotlib.figure.Figure at 0x11a45f2d0>"
      ]
     },
     "metadata": {},
     "output_type": "display_data"
    }
   ],
   "source": [
    "# CS data: plot the divergence from normal distribution (this code provided)\n",
    "xs = np.arange(h_cs.min(), h_cs.max(), 0.1)\n",
    "fit = stats.norm.pdf(xs, np.mean(h_cs), np.std(h_cs))\n",
    "plt.plot(xs, fit, label='Normal Dist.', lw=3)\n",
    "plt.hist(h_cs, normed=True, label='Actual Data');\n",
    "plt.legend();"
   ]
  },
  {
   "cell_type": "markdown",
   "metadata": {
    "deletable": false,
    "editable": false,
    "nbgrader": {
     "checksum": "70cc126c9dee83986f95e887a3a1ae88",
     "grade": false,
     "grade_id": "part7",
     "locked": true,
     "schema_version": 1,
     "solution": false
    }
   },
   "source": [
    "### Part 7: Clustering\n",
    "\n",
    "Suppose we have reason to believe there are distinct clusters of students in the class - a group of younger students, in earlier years, and a group of older students, closer to graduation. However, we do not know which students are in which group, nor the boundaries that define the groups. \n",
    "\n",
    "This is a clustering problem - here you will use KMeans to dry and find the clusters from the data. \n",
    "\n",
    "See an example of how to use sklearn, and specifically KMeans, for clustering in the 'Clustering' notebook in SectionMaterials."
   ]
  },
  {
   "cell_type": "code",
   "execution_count": 72,
   "metadata": {
    "collapsed": true,
    "deletable": false,
    "editable": false,
    "nbgrader": {
     "checksum": "9e9dbb55438e3a592b3368fd4a4a112d",
     "grade": false,
     "grade_id": "7_load",
     "locked": true,
     "schema_version": 1,
     "solution": false
    }
   },
   "outputs": [],
   "source": [
    "# For convenience, and consistency, we're providing this code to pull out the required data\n",
    "d1 = df[df['major'] == 'cogs']['year'].values\n",
    "d2 = df[df['major'] == 'cogs']['age'].values"
   ]
  },
  {
   "cell_type": "code",
   "execution_count": 73,
   "metadata": {
    "collapsed": false,
    "deletable": false,
    "nbgrader": {
     "checksum": "52f3fd856e3b4343b5b1f1896c1f8906",
     "grade": false,
     "grade_id": "7a",
     "locked": false,
     "schema_version": 1,
     "solution": true
    }
   },
   "outputs": [],
   "source": [
    "# 7a) For both 'd1', and 'd2' (separately) use the 'whiten' function to whiten the data. \n",
    "#  Save the outputs to 'd1w', and 'd2w' repectively. \n",
    "\n",
    "d1w = whiten(d1)\n",
    "d2w = whiten(d2)"
   ]
  },
  {
   "cell_type": "code",
   "execution_count": 74,
   "metadata": {
    "collapsed": false,
    "deletable": false,
    "editable": false,
    "nbgrader": {
     "checksum": "2b8db82b3fdcab09b4260012456593d7",
     "grade": true,
     "grade_id": "7a_ans",
     "locked": true,
     "points": 0.25,
     "schema_version": 1,
     "solution": false
    }
   },
   "outputs": [],
   "source": [
    "assert np.all(d1w)\n",
    "assert np.all(d2w)\n"
   ]
  },
  {
   "cell_type": "code",
   "execution_count": 75,
   "metadata": {
    "collapsed": false,
    "deletable": false,
    "nbgrader": {
     "checksum": "a22b39797180e85d0ffe86f202c1aa89",
     "grade": false,
     "grade_id": "7b",
     "locked": false,
     "schema_version": 1,
     "solution": true
    }
   },
   "outputs": [],
   "source": [
    "# 7b) Initialize a Kmeans model object. Call it 'km'.\n",
    "#  Initialize it with 'n_clusters' of 2, and 'random_state' of 42.\n",
    "\n",
    "km = KMeans (n_clusters = 2, random_state = 42)"
   ]
  },
  {
   "cell_type": "code",
   "execution_count": 76,
   "metadata": {
    "collapsed": false,
    "deletable": false,
    "editable": false,
    "nbgrader": {
     "checksum": "7d5f0211aca52612bcfc2541e6dc613c",
     "grade": true,
     "grade_id": "7b_ans",
     "locked": true,
     "points": 0.25,
     "schema_version": 1,
     "solution": false
    }
   },
   "outputs": [],
   "source": [
    "assert isinstance(km, KMeans)\n"
   ]
  },
  {
   "cell_type": "code",
   "execution_count": 77,
   "metadata": {
    "collapsed": false,
    "deletable": false,
    "editable": false,
    "nbgrader": {
     "checksum": "d8d9b7cc05cab6b096c68c1c7cc3209d",
     "grade": false,
     "grade_id": "7_comb",
     "locked": true,
     "schema_version": 1,
     "solution": false
    }
   },
   "outputs": [],
   "source": [
    "# For convenience, and consistency, we're providing this code to combine the data into required format.\n",
    "cl_dat = np.array([d1w, d2w]).T"
   ]
  },
  {
   "cell_type": "code",
   "execution_count": 78,
   "metadata": {
    "collapsed": false,
    "deletable": false,
    "nbgrader": {
     "checksum": "6bf2ec4970fa7d25062cf2c379e3f442",
     "grade": false,
     "grade_id": "7c",
     "locked": false,
     "schema_version": 1,
     "solution": true
    }
   },
   "outputs": [
    {
     "data": {
      "text/plain": [
       "KMeans(copy_x=True, init='k-means++', max_iter=300, n_clusters=2, n_init=10,\n",
       "    n_jobs=1, precompute_distances='auto', random_state=42, tol=0.0001,\n",
       "    verbose=0)"
      ]
     },
     "execution_count": 78,
     "metadata": {},
     "output_type": "execute_result"
    }
   ],
   "source": [
    "# 7c) Use the 'fit' method of the KMeans object (km) to fit the data ('cl_dat').\n",
    "\n",
    "km.fit(cl_dat)"
   ]
  },
  {
   "cell_type": "code",
   "execution_count": 79,
   "metadata": {
    "collapsed": false,
    "deletable": false,
    "editable": false,
    "nbgrader": {
     "checksum": "f7f9da8fe081fe2d97f96d8581c7857c",
     "grade": true,
     "grade_id": "7c_ans",
     "locked": true,
     "points": 0.5,
     "schema_version": 1,
     "solution": false
    }
   },
   "outputs": [],
   "source": [
    "assert np.any(km.labels_)\n"
   ]
  },
  {
   "cell_type": "code",
   "execution_count": 80,
   "metadata": {
    "collapsed": false,
    "deletable": false,
    "editable": false,
    "nbgrader": {
     "checksum": "34166910e7e0369e100e3ea4884745ed",
     "grade": false,
     "grade_id": "7_plt",
     "locked": true,
     "schema_version": 1,
     "solution": false
    }
   },
   "outputs": [
    {
     "data": {
      "image/png": "[encoded data removed]",
      "text/plain": [
       "<matplotlib.figure.Figure at 0x11a2f3d90>"
      ]
     },
     "metadata": {},
     "output_type": "display_data"
    }
   ],
   "source": [
    "# Let's check out our clusters (this code provided).\n",
    "plt.scatter(d1, d2, c=km.labels_);\n",
    "plt.xlabel('Year');\n",
    "plt.ylabel('Age');"
   ]
  },
  {
   "cell_type": "markdown",
   "metadata": {
    "deletable": false,
    "editable": false,
    "nbgrader": {
     "checksum": "b542a4ef7856b13a51b72f70a8111ab1",
     "grade": false,
     "grade_id": "part8",
     "locked": true,
     "schema_version": 1,
     "solution": false
    }
   },
   "source": [
    "### Part 8: Dimensionality Reduction\n",
    "\n",
    "Sometimes we have data that have many dimensions, perhaps too many to deal with, and so we might need to try and use dimensionality reduction: that is to try and find a lower dimensional space that captures as much of the information as we can from the original, high-dimensional, dataset. \n",
    "\n",
    "As an example, in our data, we have height and weight that are quite correlated, and we could use Principal Components Analysis (PCA), in order to try and capture the most information about a persons' height and weight in a single number - projecting this 2D data down into 1 dimension. \n",
    "\n",
    "See an example of how to use sklearn, and specifcally PCA, for dimensionality reduction in the 'Dimensionality Reduction' notebook in SectionMaterials."
   ]
  },
  {
   "cell_type": "code",
   "execution_count": 81,
   "metadata": {
    "collapsed": false,
    "deletable": false,
    "editable": false,
    "nbgrader": {
     "checksum": "43d056a0910b48f140145989f3218d8d",
     "grade": false,
     "grade_id": "8_plot_1",
     "locked": true,
     "schema_version": 1,
     "solution": false
    }
   },
   "outputs": [
    {
     "data": {
      "text/plain": [
       "[<matplotlib.lines.Line2D at 0x11a9fe950>]"
      ]
     },
     "execution_count": 81,
     "metadata": {},
     "output_type": "execute_result"
    },
    {
     "data": {
      "image/png": "[encoded data removed]",
      "text/plain": [
       "<matplotlib.figure.Figure at 0x11a7a9310>"
      ]
     },
     "metadata": {},
     "output_type": "display_data"
    }
   ],
   "source": [
    "# Check out the height vs. weight data\n",
    "plt.plot(df['height'].values, df['weight'].values, '.')"
   ]
  },
  {
   "cell_type": "code",
   "execution_count": 82,
   "metadata": {
    "collapsed": true,
    "deletable": false,
    "editable": false,
    "nbgrader": {
     "checksum": "24387b99f4a0694af6e436defe543201",
     "grade": false,
     "grade_id": "8_load",
     "locked": true,
     "schema_version": 1,
     "solution": false
    }
   },
   "outputs": [],
   "source": [
    "# For convenience, and consistency, we're providing this code to pull out the required data\n",
    "d1_h = df['height'].values\n",
    "d2_w = df['weight'].values"
   ]
  },
  {
   "cell_type": "code",
   "execution_count": 83,
   "metadata": {
    "collapsed": true,
    "deletable": false,
    "nbgrader": {
     "checksum": "032a0a7acdf15eb8b76e18109e098eb9",
     "grade": false,
     "grade_id": "8a",
     "locked": false,
     "schema_version": 1,
     "solution": true
    }
   },
   "outputs": [],
   "source": [
    "# 8a) Initialize a PCA object. Call it 'dr'. \n",
    "#  Initialize it with 'n_components' of 1, and 'whiten' as True.\n",
    "\n",
    "dr = PCA(n_components = 1, whiten = True)"
   ]
  },
  {
   "cell_type": "code",
   "execution_count": 84,
   "metadata": {
    "collapsed": false,
    "deletable": false,
    "editable": false,
    "nbgrader": {
     "checksum": "20fdbb9e9794b36a6f4e2478842ece5b",
     "grade": true,
     "grade_id": "8a_ans",
     "locked": true,
     "points": 0.5,
     "schema_version": 1,
     "solution": false
    }
   },
   "outputs": [],
   "source": [
    "assert isinstance(dr, PCA)\n"
   ]
  },
  {
   "cell_type": "code",
   "execution_count": 85,
   "metadata": {
    "collapsed": false,
    "deletable": false,
    "editable": false,
    "nbgrader": {
     "checksum": "f41c07d00ddbb57eb0731c585ef02c2a",
     "grade": false,
     "grade_id": "8_comb",
     "locked": true,
     "schema_version": 1,
     "solution": false
    }
   },
   "outputs": [],
   "source": [
    "# For convenience, and consistency, we're providing this code to combine the data into required format\n",
    "dr_dat = np.array([d1_h, d2_w]).T"
   ]
  },
  {
   "cell_type": "code",
   "execution_count": 86,
   "metadata": {
    "collapsed": false,
    "deletable": false,
    "nbgrader": {
     "checksum": "da1eaad3149f8ae32d518046514f0c5c",
     "grade": false,
     "grade_id": "8b",
     "locked": false,
     "schema_version": 1,
     "solution": true
    }
   },
   "outputs": [],
   "source": [
    "# 8b) Use the 'fit_transform' method of the PCA object (dr) on the data ('dr_dat')\n",
    "#  This method fits the dimensionality reduction model, and then transforms the data with it. \n",
    "#  Save the output (the transformed data) to 'out'\n",
    "\n",
    "out = dr.fit_transform(dr_dat)"
   ]
  },
  {
   "cell_type": "code",
   "execution_count": 87,
   "metadata": {
    "collapsed": false,
    "deletable": false,
    "editable": false,
    "nbgrader": {
     "checksum": "f04b156c8f280625043c2273d8e17b96",
     "grade": true,
     "grade_id": "8b_ans",
     "locked": true,
     "points": 0.5,
     "schema_version": 1,
     "solution": false
    }
   },
   "outputs": [],
   "source": [
    "assert np.all(out)\n",
    "assert out.shape == (335, 1)\n"
   ]
  },
  {
   "cell_type": "code",
   "execution_count": 88,
   "metadata": {
    "collapsed": false,
    "deletable": false,
    "editable": false,
    "nbgrader": {
     "checksum": "7348062ff4680d39c5fd8b40767ed558",
     "grade": false,
     "grade_id": "8_plot_2",
     "locked": true,
     "schema_version": 1,
     "solution": false
    }
   },
   "outputs": [
    {
     "data": {
      "image/png": "[encoded data removed]",
      "text/plain": [
       "<matplotlib.figure.Figure at 0x11a40a390>"
      ]
     },
     "metadata": {},
     "output_type": "display_data"
    }
   ],
   "source": [
    "# Check the transformed data (this code provided)\n",
    "#  Since this data is now 1D, the x-axis is just index\n",
    "#  Now, for each student, we have a (whitened) single number representing combined height & weight \n",
    "plt.plot(out, '.');"
   ]
  }
 ],
 "metadata": {
  "anaconda-cloud": {},
  "kernelspec": {
   "display_name": "Python [default]",
   "language": "python",
   "name": "python2"
  },
  "language_info": {
   "codemirror_mode": {
    "name": "ipython",
    "version": 2
   },
   "file_extension": ".py",
   "mimetype": "text/x-python",
   "name": "python",
   "nbconvert_exporter": "python",
   "pygments_lexer": "ipython2",
   "version": "2.7.12"
  }
 },
 "nbformat": 4,
 "nbformat_minor": 2
}
